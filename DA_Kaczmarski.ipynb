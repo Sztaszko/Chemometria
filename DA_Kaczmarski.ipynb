{
  "nbformat": 4,
  "nbformat_minor": 0,
  "metadata": {
    "colab": {
      "name": "DA_Kaczmarski.ipynb",
      "provenance": []
    },
    "kernelspec": {
      "name": "python3",
      "display_name": "Python 3"
    }
  },
  "cells": [
    {
      "cell_type": "markdown",
      "metadata": {
        "id": "-jwjYaumIJpg"
      },
      "source": [
        "1. Celem analizy jest zdefiniowanie modelu klasyfikacyjnego dla zbioru danych iris oraz ocena jego jakości.\n",
        "2. Zmiennymi objaśniającymi są 'sepal_length ', 'sepal_width' , 'petal_length' , 'petal_width' , natomiast zmienną zależną jest 'species',"
      ]
    },
    {
      "cell_type": "code",
      "metadata": {
        "id": "pdll53LABO4r",
        "outputId": "c30f2e77-45e4-4dcb-bc86-d8c0c11141c3",
        "colab": {
          "base_uri": "https://localhost:8080/",
          "height": 1000
        }
      },
      "source": [
        "%matplotlib inline\n",
        "import numpy as np\n",
        "import pandas as pd\n",
        "import seaborn as sns\n",
        "import matplotlib.pyplot as plt\n",
        "from pandas_profiling import describe\n",
        "from sklearn.discriminant_analysis import LinearDiscriminantAnalysis, QuadraticDiscriminantAnalysis \n",
        "from sklearn.metrics import accuracy_score, precision_score, recall_score, f1_score\n",
        "from sklearn.metrics import confusion_matrix, classification_report, plot_confusion_matrix, ConfusionMatrixDisplay \n",
        "from sklearn.model_selection import train_test_split, cross_val_score\n",
        "\n",
        "plt.close('all')\n",
        "\n",
        "df = sns.load_dataset(\"iris\") \n",
        "print(df.head())\n",
        "print(df.describe())\n",
        "print(df.info())\n",
        "\n",
        "X=df.values[:,:4]\n",
        "y=df.values[:,4]\n",
        "X_train, X_test, y_train, y_test = train_test_split(X, y, test_size=0.2, random_state=0) \n",
        "\n",
        "#walidacja prosta z kwadratową dyskryminacją\n",
        "da=QuadraticDiscriminantAnalysis() #QDA\n",
        "da.fit(X_train, y_train)\n",
        "y_pred = da.predict(X_test) \n",
        "print('-------------------Simple validation----------------------')\n",
        "print('\\nAccuracy (test):', accuracy_score(y_test, y_pred))\n",
        "print('Precision (test):', precision_score(y_test, y_pred, average='micro')) \n",
        "print('Recall (test):', recall_score(y_test, y_pred,average='micro')) \n",
        "print('F1 (test):', f1_score(y_test, y_pred,average='micro'), '\\n') \n",
        "y_train_pred = da.predict(X_train)\n",
        "print('\\nAccuracy (train):', accuracy_score(y_train, y_train_pred))\n",
        "print('Precision (train):', precision_score(y_train, y_train_pred,average='micro')) \n",
        "print('Recall (train):', recall_score(y_train, y_train_pred,average='micro')) \n",
        "print('F1 (train):', f1_score(y_train, y_train_pred,average='micro'), '\\n') \n",
        "\n",
        "labels=np.unique(y)\n",
        "print(\"\\nClassification report for simple validation:\\n\",classification_report(y_test, y_pred, labels=labels))\n",
        "\n",
        "print('\\nConfusion matrix')\n",
        "labels = np.unique(y)\n",
        "cm = confusion_matrix(y_test, y_pred) \n",
        "print(pd.DataFrame(cm, index=labels, columns=labels))\n",
        "\n",
        "print('\\nConfusion matrix - plot') \n",
        "pcm = plot_confusion_matrix(da, X_test, y_test, labels=labels) \n",
        "ConfusionMatrixDisplay(pcm, display_labels=labels) \n",
        "plt.show() \n",
        "print(\"----------------------------------------------\")\n",
        "print(\"----------------Cross-validation--------------\")\n",
        "scores=cross_val_score(da, X, y, cv=5)\n",
        "print('Accuracy: ',scores) \n",
        "print('Accuracy (mean): ', scores.mean()) \n",
        "print('Accuracy (std): ', scores.std())"
      ],
      "execution_count": null,
      "outputs": [
        {
          "output_type": "stream",
          "text": [
            "   sepal_length  sepal_width  petal_length  petal_width species\n",
            "0           5.1          3.5           1.4          0.2  setosa\n",
            "1           4.9          3.0           1.4          0.2  setosa\n",
            "2           4.7          3.2           1.3          0.2  setosa\n",
            "3           4.6          3.1           1.5          0.2  setosa\n",
            "4           5.0          3.6           1.4          0.2  setosa\n",
            "       sepal_length  sepal_width  petal_length  petal_width\n",
            "count    150.000000   150.000000    150.000000   150.000000\n",
            "mean       5.843333     3.057333      3.758000     1.199333\n",
            "std        0.828066     0.435866      1.765298     0.762238\n",
            "min        4.300000     2.000000      1.000000     0.100000\n",
            "25%        5.100000     2.800000      1.600000     0.300000\n",
            "50%        5.800000     3.000000      4.350000     1.300000\n",
            "75%        6.400000     3.300000      5.100000     1.800000\n",
            "max        7.900000     4.400000      6.900000     2.500000\n",
            "<class 'pandas.core.frame.DataFrame'>\n",
            "RangeIndex: 150 entries, 0 to 149\n",
            "Data columns (total 5 columns):\n",
            " #   Column        Non-Null Count  Dtype  \n",
            "---  ------        --------------  -----  \n",
            " 0   sepal_length  150 non-null    float64\n",
            " 1   sepal_width   150 non-null    float64\n",
            " 2   petal_length  150 non-null    float64\n",
            " 3   petal_width   150 non-null    float64\n",
            " 4   species       150 non-null    object \n",
            "dtypes: float64(4), object(1)\n",
            "memory usage: 6.0+ KB\n",
            "None\n",
            "-------------------Simple validation----------------------\n",
            "\n",
            "Accuracy (test): 1.0\n",
            "Precision (test): 1.0\n",
            "Recall (test): 1.0\n",
            "F1 (test): 1.0 \n",
            "\n",
            "\n",
            "Accuracy (train): 0.975\n",
            "Precision (train): 0.975\n",
            "Recall (train): 0.975\n",
            "F1 (train): 0.975 \n",
            "\n",
            "\n",
            "Classification report for simple validation:\n",
            "               precision    recall  f1-score   support\n",
            "\n",
            "      setosa       1.00      1.00      1.00        11\n",
            "  versicolor       1.00      1.00      1.00        13\n",
            "   virginica       1.00      1.00      1.00         6\n",
            "\n",
            "    accuracy                           1.00        30\n",
            "   macro avg       1.00      1.00      1.00        30\n",
            "weighted avg       1.00      1.00      1.00        30\n",
            "\n",
            "\n",
            "Confusion matrix\n",
            "            setosa  versicolor  virginica\n",
            "setosa          11           0          0\n",
            "versicolor       0          13          0\n",
            "virginica        0           0          6\n",
            "\n",
            "Confusion matrix - plot\n"
          ],
          "name": "stdout"
        },
        {
          "output_type": "display_data",
          "data": {
            "image/png": "[encoded data removed]",
            "text/plain": [
              "<Figure size 432x288 with 2 Axes>"
            ]
          },
          "metadata": {
            "tags": [],
            "needs_background": "light"
          }
        },
        {
          "output_type": "stream",
          "text": [
            "----------------------------------------------\n",
            "----------------Cross-validation--------------\n",
            "Accuracy:  [1.         1.         0.96666667 0.93333333 1.        ]\n",
            "Accuracy (mean):  0.9800000000000001\n",
            "Accuracy (std):  0.02666666666666666\n"
          ],
          "name": "stdout"
        }
      ]
    },
    {
      "cell_type": "markdown",
      "metadata": {
        "id": "iixYMr9_I32t"
      },
      "source": [
        "  Zdefiniowano model za pomocą QDA i dobrano rozmiar zbioru testowego na 0.2. Wtedy to wartość dokładności (jak i innych współczynników) dla zbioru testowego wyniosła 1 a dla treningowego 0.975 co było prawdopodobnie najbardziej optymalnym rozwiązaniem. \n",
        "Dla walidacji krzyżowej najlepsze wyniki przynosi podział na 5 podzbiorów.\n",
        "  Prosta walidacja okazuje się skuteczna do odpowiedniego wytrenowania modelu - jego dokładność dla zbioru testowego wynosi aż 1, natomiast dokładność dla treningowego jest na zadowalającym poziomie. Średnia dokładności przy walidacji krzyżowej wskazuje na bardzo dobre właściwości predykcyjne. Obydwa modele mają zadowalające własności dla wykorzystanego zbioru danych."
      ]
    },
    {
      "cell_type": "markdown",
      "metadata": {
        "id": "_q2AIflrNqn6"
      },
      "source": [
        "**Stanisław Kaczmarski**"
      ]
    }
  ]
}