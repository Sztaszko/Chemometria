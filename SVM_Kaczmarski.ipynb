{
  "nbformat": 4,
  "nbformat_minor": 0,
  "metadata": {
    "colab": {
      "name": "SVM_Kaczmarski.ipynb",
      "provenance": []
    },
    "kernelspec": {
      "name": "python3",
      "display_name": "Python 3"
    }
  },
  "cells": [
    {
      "cell_type": "markdown",
      "metadata": {
        "id": "UBHCAudVBi-p"
      },
      "source": [
        "1. Wykorzystanie klasyfikatora SVM dla rozróżnienia 6 klas różnych dodatków syropu glukozowo-fruktozowego w 17 analizowanych sokach jabłkowych.\n",
        "2. Zmiennymi objaśniającymi są wyniki pomiarów sensorem - macierz xaallsgf. Natomiast zmienną zależną jest wielkość dodatków (0%, 10%, 20%, 30%, 40% i 50%) - macierz ysgf."
      ]
    },
    {
      "cell_type": "code",
      "metadata": {
        "id": "GRrqiuBKXxj8",
        "outputId": "b38e2b25-9763-441c-c700-8d7d94e45208",
        "colab": {
          "base_uri": "https://localhost:8080/",
          "height": 867
        }
      },
      "source": [
        "import numpy as np\n",
        "import pandas as pd\n",
        "import matplotlib.pyplot as plt\n",
        "from sklearn.svm import SVC\n",
        "from sklearn.model_selection import train_test_split,cross_val_score\n",
        "from sklearn.metrics import accuracy_score, precision_score, recall_score, confusion_matrix, classification_report, plot_confusion_matrix\n",
        "import seaborn as sns\n",
        "\n",
        "import scipy.io as spio\n",
        "mat=spio.loadmat('sokizSGF.mat', squeeze_me=True)\n",
        "X=mat['xaallsgf']\n",
        "y=mat['ysgf']\n",
        "\n",
        "X_train, X_test, y_train, y_test=train_test_split(X, y, test_size=0.1,random_state=0)\n",
        "svc=SVC(kernel='poly', degree=8)\n",
        "\n",
        "print('---------------Cross-validation---------------')\n",
        "scores=cross_val_score(svc,X_train,y_train,cv=7)\n",
        "print('Accuracy: ',scores)\n",
        "print('Accuracy (mean): ', scores.mean())\n",
        "print('Accuracy (std): ', scores.std())\n",
        "\n",
        "svc.fit(X_train,y_train)\n",
        "y_test_pred=svc.predict(X_test)\n",
        "print('\\nAccuracy (train): ', accuracy_score(y_train,svc.predict(X_train)))\n",
        "print('Accuracy (test): ', accuracy_score(y_test, y_test_pred))\n",
        "\n",
        "labels=np.unique(y)\n",
        "print(classification_report(y_test,y_test_pred,labels=labels))\n",
        "print('\\nConfusion matrix')\n",
        "cm=confusion_matrix(y_test,y_test_pred)\n",
        "print(pd.DataFrame(cm, index=['0%','10%','20%','30%','40%','50%'], columns=['pred: 0%','10%','20%','30%','40%','50%']))\n",
        "\n",
        "\n",
        "print('\\nConfusion matrix - plot') \n",
        "pcm = plot_confusion_matrix(svc, X_test, y_test, labels=labels) \n",
        "plt.show() "
      ],
      "execution_count": null,
      "outputs": [
        {
          "output_type": "stream",
          "text": [
            "---------------Cross-validation---------------\n",
            "Accuracy:  [0.92424242 0.92424242 0.90909091 0.96969697 0.95384615 0.96923077\n",
            " 0.90769231]\n",
            "Accuracy (mean):  0.9368631368631368\n",
            "Accuracy (std):  0.024942636341204878\n",
            "\n",
            "Accuracy (train):  1.0\n",
            "Accuracy (test):  0.9411764705882353\n",
            "              precision    recall  f1-score   support\n",
            "\n",
            "           0       0.80      1.00      0.89         8\n",
            "          10       1.00      0.88      0.93         8\n",
            "          20       1.00      0.89      0.94         9\n",
            "          30       1.00      0.93      0.96        14\n",
            "          40       0.88      1.00      0.93         7\n",
            "          50       1.00      1.00      1.00         5\n",
            "\n",
            "    accuracy                           0.94        51\n",
            "   macro avg       0.95      0.95      0.94        51\n",
            "weighted avg       0.95      0.94      0.94        51\n",
            "\n",
            "\n",
            "Confusion matrix\n",
            "     pred: 0%  10%  20%  30%  40%  50%\n",
            "0%          8    0    0    0    0    0\n",
            "10%         1    7    0    0    0    0\n",
            "20%         1    0    8    0    0    0\n",
            "30%         0    0    0   13    1    0\n",
            "40%         0    0    0    0    7    0\n",
            "50%         0    0    0    0    0    5\n",
            "\n",
            "Confusion matrix - plot\n"
          ],
          "name": "stdout"
        },
        {
          "output_type": "display_data",
          "data": {
            "image/png": "[encoded data removed]",
            "text/plain": [
              "<Figure size 432x288 with 2 Axes>"
            ]
          },
          "metadata": {
            "tags": [],
            "needs_background": "light"
          }
        }
      ]
    },
    {
      "cell_type": "markdown",
      "metadata": {
        "id": "Fc8eQxLCB_kR"
      },
      "source": [
        "4. Dokonano klasyfikacji SVM z wykorzystaniem wielomianowego jądra o stopniu 8. Taki stopień pozwala na najwyższą dokładność predykcji. Następnie dokonano walidacji krzyżowej. Parametry dobrano tak aby możliwie zmaksymalizować dokładność.\n",
        "7. Uzyskana klasyfikacja ma wysoką dokładność testową i może być zastosowana w praktyce. Możliwe przeuczenie modelu można wyeliminować zmniejszając stopień wielomianu. Dla degree=7 :\n",
        "\n",
        "Accuracy (train):  0.9978213507625272\n",
        "\n",
        "Accuracy (test):  0.9215686274509803"
      ]
    },
    {
      "cell_type": "markdown",
      "metadata": {
        "id": "lcxbLfpRFgbL"
      },
      "source": [
        "**Stanisław Kaczmarski**"
      ]
    }
  ]
}